{
 "cells": [
  {
   "cell_type": "code",
   "execution_count": 1,
   "id": "77fa4edb-a8df-4292-bde6-997f7f3327ec",
   "metadata": {},
   "outputs": [],
   "source": [
    "import numpy as np\n",
    "import pandas as pd\n",
    "import matplotlib.pyplot as plt\n",
    "import seaborn as sn\n",
    "import string\n",
    "import re\n",
    "from nltk.stem import PorterStemmer"
   ]
  },
  {
   "cell_type": "code",
   "execution_count": 2,
   "id": "d33b62e1-adff-4ce3-a900-a75a99aa1672",
   "metadata": {},
   "outputs": [],
   "source": [
    "df=pd.read_csv('spam_ham_dataset.csv')"
   ]
  },
  {
   "cell_type": "code",
   "execution_count": 3,
   "id": "713d921f-d1ee-407d-a0cd-e84531feee9e",
   "metadata": {},
   "outputs": [
    {
     "name": "stdout",
     "output_type": "stream",
     "text": [
      "Subject: enron methanol ; meter # : 988291\n",
      "this is a follow up to the note i gave you on monday , 4 / 3 / 00 { preliminary\n",
      "flow data provided by daren } .\n",
      "please override pop ' s daily volume { presently zero } to reflect daily\n",
      "activity you can obtain from gas control .\n",
      "this change is needed asap for economics purposes .\n"
     ]
    }
   ],
   "source": [
    "text=df['text'][0]\n",
    "print(text)"
   ]
  },
  {
   "cell_type": "code",
   "execution_count": 4,
   "id": "beee7e7c-d3cc-4378-9ce6-cd4ec7112306",
   "metadata": {
    "scrolled": true
   },
   "outputs": [],
   "source": [
    "st=PorterStemmer()\n",
    "def clean_text(text):\n",
    "    #lower case whole text\n",
    "    text=text.lower()\n",
    "    #removing digits\n",
    "    text=re.sub(r'\\d+','',text)\n",
    "    #remove punctuations\n",
    "    text=''.join([i for i in text if i not in string.punctuation])\n",
    "    #removes extra space from the beginning or ending of sent\n",
    "    text=text.strip()\n",
    "    text=text.replace('subject','').strip()\n",
    "    text=' '.join([st.stem(word) for word in text.split()])\n",
    "    return text"
   ]
  },
  {
   "cell_type": "code",
   "execution_count": 5,
   "id": "41566f0d-6235-44c4-80bd-8e87c16cd5ad",
   "metadata": {},
   "outputs": [],
   "source": [
    "df['clean_text']=df['text'].apply(clean_text)"
   ]
  },
  {
   "cell_type": "code",
   "execution_count": 6,
   "id": "61229932-c8ca-4736-aa85-fc0e6bbf1951",
   "metadata": {},
   "outputs": [],
   "source": [
    "from sklearn.feature_extraction.text import TfidfVectorizer\n",
    "vectorizer=TfidfVectorizer(stop_words='english')"
   ]
  },
  {
   "cell_type": "code",
   "execution_count": 7,
   "id": "f242fab0-fae9-448b-8cc0-f5fb555b5d64",
   "metadata": {},
   "outputs": [
    {
     "data": {
      "text/html": [
       "<div>\n",
       "<style scoped>\n",
       "    .dataframe tbody tr th:only-of-type {\n",
       "        vertical-align: middle;\n",
       "    }\n",
       "\n",
       "    .dataframe tbody tr th {\n",
       "        vertical-align: top;\n",
       "    }\n",
       "\n",
       "    .dataframe thead th {\n",
       "        text-align: right;\n",
       "    }\n",
       "</style>\n",
       "<table border=\"1\" class=\"dataframe\">\n",
       "  <thead>\n",
       "    <tr style=\"text-align: right;\">\n",
       "      <th></th>\n",
       "      <th>apple</th>\n",
       "      <th>like</th>\n",
       "      <th>oranges</th>\n",
       "    </tr>\n",
       "  </thead>\n",
       "  <tbody>\n",
       "    <tr>\n",
       "      <th>0</th>\n",
       "      <td>0.789807</td>\n",
       "      <td>0.613356</td>\n",
       "      <td>0.000000</td>\n",
       "    </tr>\n",
       "    <tr>\n",
       "      <th>1</th>\n",
       "      <td>0.000000</td>\n",
       "      <td>0.613356</td>\n",
       "      <td>0.789807</td>\n",
       "    </tr>\n",
       "    <tr>\n",
       "      <th>2</th>\n",
       "      <td>0.619805</td>\n",
       "      <td>0.481334</td>\n",
       "      <td>0.619805</td>\n",
       "    </tr>\n",
       "  </tbody>\n",
       "</table>\n",
       "</div>"
      ],
      "text/plain": [
       "      apple      like   oranges\n",
       "0  0.789807  0.613356  0.000000\n",
       "1  0.000000  0.613356  0.789807\n",
       "2  0.619805  0.481334  0.619805"
      ]
     },
     "execution_count": 7,
     "metadata": {},
     "output_type": "execute_result"
    }
   ],
   "source": [
    "#Exammple\n",
    "#Term Frequency - Inverse Document Frequency\n",
    "tfidf=vectorizer.fit_transform(['i like apple','i like oranges', 'i like apple and oranges'])\n",
    "\n",
    "pd.DataFrame(tfidf.toarray(), columns=vectorizer.get_feature_names_out())"
   ]
  },
  {
   "cell_type": "code",
   "execution_count": 8,
   "id": "b3c8faf6-5d2d-4c62-8781-2e7178414c6e",
   "metadata": {},
   "outputs": [
    {
     "name": "stdout",
     "output_type": "stream",
     "text": [
      "              precision    recall  f1-score   support\n",
      "\n",
      "           0       0.92      1.00      0.96       739\n",
      "           1       1.00      0.78      0.87       296\n",
      "\n",
      "    accuracy                           0.94      1035\n",
      "   macro avg       0.96      0.89      0.91      1035\n",
      "weighted avg       0.94      0.94      0.93      1035\n",
      "\n"
     ]
    }
   ],
   "source": [
    "X=vectorizer.fit_transform(df['clean_text'])\n",
    "y=df['label_num']\n",
    "\n",
    "from sklearn.model_selection import train_test_split\n",
    "X_train, X_test, y_train, y_test = train_test_split(X, y, test_size=0.2)\n",
    "\n",
    "from sklearn.naive_bayes import MultinomialNB\n",
    "nb=MultinomialNB()\n",
    "\n",
    "nb.fit(X_train,y_train)\n",
    "y_pred=nb.predict(X_test)\n",
    "\n",
    "from sklearn.metrics import classification_report\n",
    "print(classification_report(y_test,y_pred))"
   ]
  },
  {
   "cell_type": "code",
   "execution_count": 9,
   "id": "a461c5f8-6852-4bc6-b4f1-6a9878385c56",
   "metadata": {},
   "outputs": [],
   "source": [
    "def predict_email(text):\n",
    "    global pred\n",
    "    cleaned_text=clean_text(text)\n",
    "    vectorized=vectorizer.transform([cleaned_text])\n",
    "    pred=nb.predict_proba(vectorized)[0]\n",
    "    if pred[1]>0.3:\n",
    "        print('This seems like a Spam email')\n",
    "    else:\n",
    "        print('This seems like a Genuine email')"
   ]
  },
  {
   "cell_type": "code",
   "execution_count": 14,
   "id": "3157a851-a69f-480c-b50e-f547c3f4e8b0",
   "metadata": {},
   "outputs": [
    {
     "name": "stdout",
     "output_type": "stream",
     "text": [
      "This seems like a Genuine email\n"
     ]
    }
   ],
   "source": [
    "exmaple_text='This is to inform you that you have been promoted.'\n",
    "predict_email(exmaple_text)"
   ]
  },
  {
   "cell_type": "code",
   "execution_count": null,
   "id": "7c8c73a9-9d79-4704-b5a8-f3a821d92796",
   "metadata": {},
   "outputs": [],
   "source": []
  },
  {
   "cell_type": "code",
   "execution_count": null,
   "id": "4b390f67-1bb0-4601-bdb1-671128a4b07b",
   "metadata": {},
   "outputs": [],
   "source": []
  }
 ],
 "metadata": {
  "kernelspec": {
   "display_name": "Python 3 (ipykernel)",
   "language": "python",
   "name": "python3"
  },
  "language_info": {
   "codemirror_mode": {
    "name": "ipython",
    "version": 3
   },
   "file_extension": ".py",
   "mimetype": "text/x-python",
   "name": "python",
   "nbconvert_exporter": "python",
   "pygments_lexer": "ipython3",
   "version": "3.12.7"
  }
 },
 "nbformat": 4,
 "nbformat_minor": 5
}
